{
 "cells": [
  {
   "cell_type": "code",
   "execution_count": 160,
   "metadata": {
    "scrolled": true
   },
   "outputs": [],
   "source": [
    "import os\n",
    "import pandas as pd\n",
    "import nltk\n",
    "import re\n",
    "from nltk import word_tokenize, pos_tag\n",
    "from nltk.stem.wordnet import WordNetLemmatizer \n",
    "from nltk.stem.porter import PorterStemmer \n",
    "import gensim\n",
    "from gensim.models import Word2Vec\n",
    "from gensim import corpora, models, similarities\n",
    "from bs4 import BeautifulSoup\n",
    "import urllib.request\n",
    "from sklearn.feature_extraction.text import TfidfVectorizer\n",
    "from nltk.tokenize import sent_tokenize \n",
    "import csv\n",
    "#Getting data from the link\n",
    "#response=urllib.request.urlopen('http://php.net/')\n",
    "#html=response.read()\n",
    "#Soup=BeautifulSoup(html,\"html5lib\")\n",
    "#inptxt=Soup.get_text(strip = True)\n",
    "#Removing stopwords from raw data\n",
    "#noise_list = [\"The\",\"a\", \"about\", \"above\", \"above\", \"across\", \"after\", \"afterwards\", \"again\", \"against\", \"all\", \"almost\", \"alone\", \"along\", \"already\", \"also\",\"although\",\"always\",\"am\",\"among\", \"amongst\", \"amoungst\", \"amount\",  \"an\", \"and\", \"another\", \"any\",\"anyhow\",\"anyone\",\"anything\",\"anyway\", \"anywhere\", \"are\", \"around\", \"as\",  \"at\", \"back\",\"be\",\"became\", \"because\",\"become\",\"becomes\", \"becoming\", \"been\", \"before\", \"beforehand\", \"behind\", \"being\", \"below\", \"beside\", \"besides\", \"between\", \"beyond\", \"bill\", \"both\", \"bottom\",\"but\", \"by\", \"call\", \"can\", \"cannot\", \"cant\", \"co\", \"con\", \"could\", \"couldnt\", \"cry\", \"de\", \"describe\", \"detail\", \"do\", \"done\", \"down\", \"due\", \"during\", \"each\", \"eg\", \"eight\", \"either\", \"eleven\",\"else\", \"elsewhere\", \"empty\", \"enough\", \"etc\", \"even\", \"ever\", \"every\", \"everyone\", \"everything\", \"everywhere\", \"except\", \"few\", \"fifteen\", \"fify\", \"fill\", \"find\", \"fire\", \"first\", \"five\", \"for\", \"former\", \"formerly\", \"forty\", \"found\", \"four\", \"from\", \"front\", \"full\", \"further\", \"get\", \"give\", \"go\", \"had\", \"has\", \"hasnt\", \"have\", \"he\", \"hence\", \"her\", \"here\", \"hereafter\", \"hereby\", \"herein\", \"hereupon\", \"hers\", \"herself\", \"him\", \"himself\", \"his\", \"how\", \"however\", \"hundred\", \"ie\", \"if\", \"in\", \"inc\", \"indeed\", \"interest\", \"into\", \"is\", \"it\", \"its\", \"itself\", \"keep\", \"last\", \"latter\", \"latterly\", \"least\", \"less\", \"ltd\", \"made\", \"many\", \"may\", \"me\", \"meanwhile\", \"might\", \"mill\", \"mine\", \"more\", \"moreover\", \"most\", \"mostly\", \"move\", \"much\", \"must\", \"my\", \"myself\", \"name\", \"namely\", \"neither\", \"never\", \"nevertheless\", \"next\", \"nine\", \"no\", \"nobody\", \"none\", \"noone\", \"nor\", \"not\", \"nothing\", \"now\", \"nowhere\", \"of\", \"off\", \"often\", \"on\", \"once\", \"one\", \"only\", \"onto\", \"or\", \"other\", \"others\", \"otherwise\", \"our\", \"ours\", \"ourselves\", \"out\", \"over\", \"own\",\"part\", \"per\", \"perhaps\", \"please\", \"put\", \"rather\", \"re\", \"same\", \"see\", \"seem\", \"seemed\", \"seeming\", \"seems\", \"serious\", \"several\", \"she\", \"should\", \"show\", \"side\", \"since\", \"sincere\", \"six\", \"sixty\", \"so\", \"some\", \"somehow\", \"someone\", \"something\", \"sometime\", \"sometimes\", \"somewhere\", \"still\", \"such\", \"system\", \"take\", \"ten\", \"than\", \"that\", \"the\", \"their\", \"them\", \"themselves\", \"then\", \"thence\", \"there\", \"thereafter\", \"thereby\", \"therefore\", \"therein\", \"thereupon\", \"these\", \"they\", \"thickv\", \"thin\", \"third\", \"this\", \"those\", \"though\", \"three\", \"through\", \"throughout\", \"thru\", \"thus\", \"to\", \"together\", \"too\", \"top\", \"toward\", \"towards\", \"twelve\", \"twenty\", \"two\", \"un\", \"under\", \"until\", \"up\", \"upon\", \"us\", \"very\", \"via\", \"was\", \"we\", \"well\", \"were\", \"what\", \"whatever\", \"when\", \"whence\", \"whenever\", \"where\", \"whereafter\", \"whereas\", \"whereby\", \"wherein\", \"whereupon\", \"wherever\", \"whether\", \"which\", \"while\", \"whither\", \"who\", \"whoever\", \"whole\", \"whom\", \"whose\", \"why\", \"will\", \"with\", \"within\", \"without\", \"would\", \"yet\", \"you\", \"your\", \"yours\", \"yourself\", \"yourselves\", \"the\"]\n",
    "noise_list=[\"i\", \"me\", \"my\", \"myself\", \"we\", \"our\", \"ours\", \"ourselves\", \"you\", \"your\", \"yours\", \"yourself\", \"yourselves\", \"he\", \"him\", \"his\", \"himself\", \"she\", \"her\", \"hers\", \"herself\", \"it\", \"its\", \"itself\", \"they\", \"them\", \"their\", \"theirs\", \"themselves\", \"what\", \"which\", \"who\", \"whom\", \"this\", \"that\", \"these\", \"those\", \"am\", \"is\", \"are\", \"was\", \"were\", \"be\", \"been\", \"being\", \"have\", \"has\", \"had\", \"having\", \"do\", \"does\", \"did\", \"doing\", \"a\", \"an\", \"the\", \"and\", \"but\", \"if\", \"or\", \"because\", \"as\", \"until\", \"while\", \"of\", \"at\", \"by\", \"for\", \"with\", \"about\", \"against\", \"between\", \"into\", \"through\", \"during\", \"before\", \"after\", \"above\", \"below\", \"to\", \"from\", \"up\", \"down\", \"in\", \"out\", \"on\", \"off\", \"over\", \"under\", \"again\", \"further\", \"then\", \"once\", \"here\", \"there\", \"when\", \"where\", \"why\", \"how\", \"all\", \"any\", \"both\", \"each\", \"few\", \"more\", \"most\", \"other\", \"some\", \"such\", \"no\", \"nor\", \"not\", \"only\", \"own\", \"same\", \"so\", \"than\", \"too\", \"very\", \"s\", \"t\", \"can\", \"will\", \"just\", \"don\", \"should\", \"now\"]\n",
    "lookup_dict = {'rt':'Retweet', 'dm':'direct message', \"awsm\" : \"awesome\", \"wrt\" : \"with respect to\", \"pm\" :\"personal message\", \"UI\" :\"User Interface\", \"IDE\" :\"Integrated Development Environment\"}\n",
    "data = pd.read_csv(\"Connect_TC.csv\")\n",
    "inptxt = data.set_index('DS_TEST_ID')\n",
    "pd.options.display.max_colwidth = 0\n",
    "inptxt = inptxt.replace('\\n',' ',regex=True)\n",
    "inptxt1=\"\"\n",
    "lemt2=\"\"\n",
    "lemt3=\"\"\n",
    "lem=WordNetLemmatizer()\n",
    "for row in inptxt.iterrows():\n",
    "    row=re.sub('\\.',' ', str(row))\n",
    "def removenoise(input_text):\n",
    "    words = input_text.split() \n",
    "    noise_free_words = [word for word in words if word not in noise_list] \n",
    "    noise_free_text = \" \".join(noise_free_words) \n",
    "    return noise_free_text\n",
    "def removeregex(input_text, regex_pattern):\n",
    "    urls = re.finditer(regex_pattern, input_text) \n",
    "    for i in urls: \n",
    "        input_text = re.sub(i.group().strip(), '', input_text)\n",
    "    return input_text\n",
    "#regex_pattern='[^\\s\\w]'\n",
    "regex_pattern = \"[\\w]*\"\n",
    "#[!@#\\$%\\^&\\*\\)\\(\\+-=\\?]\n",
    "def remreg(input_text):\n",
    "    xy=re.sub('[^a-zA-Z0-9]', '', input_text)\n",
    "    return xy\n",
    "def lookupwords(input_text):\n",
    "    words = input_text.split() \n",
    "    new_words = [] \n",
    "    for word in words:\n",
    "        if word.lower() in lookup_dict:\n",
    "            word = lookup_dict[word.lower()]\n",
    "        new_words.append(word) \n",
    "    return new_words\n",
    "i=0\n",
    "for row in inptxt.iterrows():\n",
    "    #row=removeregex(str(row),regex_pattern)\n",
    "    #print(row)\n",
    "    words1=str(row).split()\n",
    "    lemt2=\"\"\n",
    "    i+=1\n",
    "    for word in words1:\n",
    "        word = word.lower()\n",
    "        word2 = remreg(word)\n",
    "        #if i==97:\n",
    "            #print(word2)\n",
    "        word3 = lem.lemmatize(str(word2),\"v\")\n",
    "        lemt1= \"\".join(word3)\n",
    "        lemt2+=lemt1 + \" \"\n",
    "    lemt3=lemt3+lemt2+'\\n'\n",
    "    row=removenoise(str(lemt2))\n",
    "    row=lookupwords(row)\n",
    "    inptxt1=inptxt1+str(row)+'\\n'\n",
    "\n",
    "  \n",
    "\n"
   ]
  },
  {
   "cell_type": "code",
   "execution_count": 161,
   "metadata": {
    "scrolled": true
   },
   "outputs": [
    {
     "name": "stdout",
     "output_type": "stream",
     "text": [
      "['1', 'testdescription', 'verify', 'select', 'assignment', 'name', 'field', 'max', 'length', '100', 'charsverify', 'name', 'create', 'assignmentset', 'policiesreview', 'assign', 'page', 'name', '1', 'dtype', 'object']\n",
      "['2', 'testdescription', 'verify', 'direct message', 'student', 'instructions', 'field', 'max', 'length', '4000', 'charsverify', 'instruction', 'create', 'assignmentset', 'policiesreview', 'assign', 'page', 'name', '2', 'dtype', 'object']\n",
      "['3', 'testdescription', 'verify', 'zero', 'state', 'create', 'assignment', 'page', 'name', '3', 'dtype', 'object']\n",
      "['4', 'testdescription', 'verify', 'select', 'question', 'source', 'modal', 'select', 'textbook', 'assignment', 'create', 'create', 'question', 'options', 'display', 'name', '4', 'dtype', 'object']\n",
      "['5', 'testdescription', 'select', 'textbook', 'verify', 'flow', 'display', 'table', 'content', 'chaptersquestion', 'bank', 'select', 'question', 'select', 'chapters', 'list', 'name', '5', 'dtype', 'object']\n",
      "['6', 'testdescription', 'select', 'assignments', 'create', 'verify', 'display', 'assignments', 'section', 'course', 'instructor', 'account', 'add', 'question', 'assignments', 'create', 'name', '6', 'dtype', 'object']\n",
      "['7', 'testdescription', 'create', 'question', 'launch', 'question', 'editor', 'create', 'question', 'typescheck', 'applyessayfile', 'attachment', 'fill', 'blank', 'match', 'multiple', 'choice', 'numeric', 'response', 'rank', 'section', 'break', 'short', 'answer', 'survey', 'truefalse', 'worksheet', 'yesno', 'name', '7', 'dtype', 'object']\n",
      "['8', 'testdescription', 'verify', 'add', 'random', 'selection', 'add', 'question', 'randomly', 'individual', 'question', 'pool', 'name', '8', 'dtype', 'object']\n",
      "['9', 'testdescription', 'verify', 'question', 'list', 'add', 'question', 'list', 'view', 'verify', 'question', 'list', 'question', 'question', 'type', 'info', 'check', 'box', 'verify', 'm', 'flag', 'manual', 'grade', 'question', 'verify', 'filter', 'name', '9', 'dtype', 'object']\n",
      "['10', 'testdescription', 'verify', 'auto', 'gradable', 'nonauto', 'gradable', 'filter', 'validations', 'name', '10', 'dtype', 'object']\n",
      "['11', 'testdescription', 'verify', 'question', 'list', 'add', 'question', 'individual', 'view', 'add', 'questionssection', 'break', 'question', 'individual', 'view', 'verify', 'm', 'flag', 'manual', 'grade', 'question', 'name', '11', 'dtype', 'object']\n",
      "['12', 'testdescription', 'add', 'question', 'individual', 'question', 'listindividual', 'view', 'name', '12', 'dtype', 'object']\n",
      "['13', 'testdescription', 'add', 'question', 'pool', 'listindividual', 'view', 'add', 'question', 'new', 'pool', 'exist', 'pool', 'name', '13', 'dtype', 'object']\n",
      "['14', 'testdescription', 'verify', 'set', 'point', 'entire', 'assignment', 'question', 'specific', 'question', 'type', 'verify', 'validation', 'max', 'point', 'value', 'case', 'name', '14', 'dtype', 'object']\n",
      "['15', 'testdescription', 'verify', 'maximum', 'point', 'value', 'question', 'assignment', 'name', '15', 'dtype', 'object']\n",
      "['16', 'testdescription', 'verify', 'question', 'assign', 'point', 'display', 'name', '16', 'dtype', 'object']\n",
      "['17', 'testdescription', 'verification', 'lock', 'assignment', 'point', 'add', 'question', 'delete', 'question', 'reduce', 'question', 'draw', 'pool', 'name', '17', 'dtype', 'object']\n",
      "['18', 'testdescription', 'create', 'assignment', 'pool', 'question', 'delete', 'question', 'pool', 'move', 'individual', 'question', 'pool', 'merge', 'two', 'pool', 'verify', 'edit', 'pool', 'rename', 'move', 'merge', 'pool', 'name', '18', 'dtype', 'object']\n",
      "['19', 'testdescription', 'organize', 'assignments', 'list', 'view', 'drag', 'drop', 'question', 'delete', 'question', 'edit', 'score', 'move', 'updown', 'question', 'edit', 'pool', 'name', '19', 'dtype', 'object']\n",
      "['20', 'testdescription', 'organize', 'assignments', 'individual', 'view', 'verify', 'question', 'display', 'navigations', 'within', 'question', 'name', '20', 'dtype', 'object']\n",
      "['21', 'testdescription', 'quick', 'view', 'settings', 'enable', 'disable', 'aaa', 'quick', 'view', 'settings', 'verify', 'question', 'editor', 'quick', 'view', 'settings', 'name', '21', 'dtype', 'object']\n",
      "['22', 'testdescription', 'verify', 'aaa', 'feature', 'create', 'assignment', 'aaa', 'option', 'enable', 'question', 'take', 'assignment', 'student', 'side', 'verify', 'score', 'name', '22', 'dtype', 'object']\n",
      "['23', 'testdescription', 'verify', 'question', 'editor', 'launch', 'question', 'editor', 'edit', 'question', 'verify', 'change', 'make', 'question', 'editor', 'name', '23', 'dtype', 'object']\n",
      "['24', 'testdescription', 'voice', 'record', 'question', 'editor', 'interface', 'name', '24', 'dtype', 'object']\n",
      "['25', 'testdescription', 'create', 'zero', 'point', 'assignment', 'take', 'assignment', 'student', 'side', 'name', '25', 'dtype', 'object']\n",
      "['26', 'testdescription', 'verify', 'default', 'policies', '4', 'type', 'homeworkpracticequizexam', 'set', 'policies', 'page', 'name', '26', 'dtype', 'object']\n",
      "['27', 'testdescription', 'verify', 'positivenegative', 'policy', 'display', 'expand', 'view', 'advance', 'settings', 'set', 'policies', 'page', 'name', '27', 'dtype', 'object']\n",
      "['28', 'testdescription', 'verify', 'start', 'due', 'date', 'field', 'verify', 'validations', 'start', 'due', 'date', 'name', '28', 'dtype', 'object']\n",
      "['29', 'testdescription', 'create', 'assignment', 'without', 'due', 'date', 'verify', 'students', 'section', 'home', 'page', 'instruction', 'modal', 'student', 'side', 'name', '29', 'dtype', 'object']\n",
      "['30', 'testdescription', 'create', 'assignments', 'force', 'grade', 'auto', 'submit', 'verify', 'force', 'grade', 'connect', 'side', 'students', 'name', '30', 'dtype', 'object']\n",
      "['31', 'testdescription', 'create', 'assignments', 'force', 'grade', 'auto', 'submit', 'verify', 'force', 'grade', 'ezt', 'side', 'students', 'name', '31', 'dtype', 'object']\n",
      "['32', 'testdescription', 'create', 'assignments', 'late', 'submission', 'deduction', 'enable', 'student', 'take', 'multiple', 'attempt', 'due', 'date', 'verify', 'deductions', 'student', 'side', 'hour', 'day', 'late', 'deductions', 'name', '32', 'dtype', 'object']\n",
      "['33', 'testdescription', 'create', 'assignments', 'late', 'submission', 'deduction', 'enable', 'student', 'take', 'assignment', 'keep', 'progress', 'verify', 'past', 'due', 'notification', 'instructor', 'side', 'name', '33', 'dtype', 'object']\n",
      "['34', 'testdescription', 'end', 'past', 'due', 'progress', 'attempt', 'past', 'due', 'notification', 'page', 'verify', 'report', 'student', 'side', 'name', '34', 'dtype', 'object']\n",
      "['35', 'testdescription', 'create', 'assignments', 'late', 'submission', 'deduction', 'enable', 'student', 'take', 'assignment', 'keep', 'progress', 'instructor', 'end', 'past', 'due', 'attempt', 'student', 'activity', 'page', 'name', '35', 'dtype', 'object']\n",
      "['36', 'testdescription', 'create', 'assignment', 'late', 'submission', 'enable', 'enable', 'force', 'grade', 'activity', 'due', 'date', 'name', '36', 'dtype', 'object']\n",
      "['37', 'testdescription', 'create', 'assignment', 'late', 'submission', 'enable', 'enable', 'force', 'grade', 'activity', 'due', 'date', 'reach', 'name', '37', 'dtype', 'object']\n",
      "['38', 'testdescription', 'create', 'assignment', 'force', 'grade', 'enable', 'extend', 'due', 'date', 'assignment', 'force', 'grade', 'name', '38', 'dtype', 'object']\n",
      "['39', 'testdescription', 'create', 'assignment', 'force', 'grade', 'enable', 'extend', 'due', 'date', 'force', 'grade', 'process', 'start', 'name', '39', 'dtype', 'object']\n",
      "['40', 'testdescription', 'create', 'assignment', 'force', 'grade', 'enable', 'extent', 'due', 'date', 'force', 'grade', 'complete', 'verify', 'force', 'grade', 'extend', 'due', 'date', 'name', '40', 'dtype', 'object']\n",
      "['41', 'testdescription', 'create', 'assignment', 'force', 'grade', 'enable', 'remove', 'force', 'grade', 'policy', 'force', 'grade', 'assignment', 'progress', 'name', '41', 'dtype', 'object']\n",
      "['42', 'testdescription', 'create', 'assignment', 'force', 'grade', 'enable', 'remove', 'force', 'grade', 'policy', 'force', 'grade', 'begin', 'name', '42', 'dtype', 'object']\n",
      "['43', 'testdescription', 'create', 'assignment', 'time', 'limit', 'take', 'assignment', 'student', 'side', 'name', '43', 'dtype', 'object']\n",
      "['44', 'testdescription', 'create', 'assignment', 'password', 'verify', 'password', 'prompt', 'student', 'side', 'try', 'enter', 'correct', 'incorrect', 'passwords', 'password', 'field', 'name', '44', 'dtype', 'object']\n",
      "['45', 'testdescription', 'create', 'assignment', 'scramble', 'question', 'enable', 'take', 'assignment', 'student', 'name', '45', 'dtype', 'object']\n",
      "['46', 'testdescription', 'create', 'assignment', 'print', 'option', 'combination', 'multiple', 'policies', 'take', 'assignment', 'student', 'side', 'verify', 'print', 'option', 'take', 'assignment', 'post', 'submission', 'view', 'name', '46', 'dtype', 'object']\n",
      "['47', 'testdescription', 'create', 'assignment', 'grade', 'completion', 'option', 'manual', 'auto', 'gradable', 'question', 'add', 'start', 'fresh', 'option', 'enable', 'take', 'assignment', 'student', 'side', 'name', '47', 'dtype', 'object']\n",
      "['48', 'testdescription', 'create', 'assignment', 'grade', 'completion', 'option', 'manual', 'auto', 'gradable', 'question', 'add', 'bop', 'option', 'enable', 'verify', 'check', 'box', 'bop', 'disable', 'try', 'take', 'multiple', 'attempt', 'student', 'side', 'name', '48', 'dtype', 'object']\n",
      "['49', 'testdescription', 'create', 'assignment', 'bop', 'option', 'enable', 'manual', 'auto', 'gradable', 'question', 'add', 'select', 'check', 'box', 'bop', 'take', 'assignment', 'student', 'side', 'name', '49', 'dtype', 'object']\n",
      "['50', 'testdescription', 'create', 'assignment', 'bop', 'option', 'enable', 'manual', 'auto', 'gradable', 'question', 'add', 'select', 'check', 'box', 'bop', 'take', 'assignment', 'student', 'side', 'name', '50', 'dtype', 'object']\n",
      "['51', 'testdescription', 'create', 'assignment', 'attempt', 'level', 'deduction', 'take', 'multiple', 'attempt', 'student', 'side', 'verify', 'deductions', 'attempt', '1', 'name', '51', 'dtype', 'object']\n",
      "['52', 'testdescription', 'create', 'assignment', 'attempt', 'level', 'deduction', 'compound', 'deduction', 'enable', 'take', 'multiple', 'attempt', 'student', 'side', 'verify', 'deductions', 'attempt', '1', 'name', '52', 'dtype', 'object']\n",
      "['53', 'testdescription', 'create', 'assignment', 'language', 'tolerance', 'fill', 'blank', 'question', 'add', 'enable', 'verify', 'give', 'tolerance', 'student', 'side', 'name', '53', 'dtype', 'object']\n",
      "['54', 'testdescription', 'create', 'assignment', 'numeric', 'tolerance', 'numeric', 'response', 'question', 'add', 'enable', 'verify', 'give', 'tolerance', 'student', 'side', 'name', '54', 'dtype', 'object']\n",
      "['55', 'testdescription', 'create', 'assignment', 'resources', 'enable', 'provide', 'deductions', 'take', 'assignment', 'student', 'side', 'verify', 'deductions', 'access', 'resources', 'name', '55', 'dtype', 'object']\n",
      "['56', 'testdescription', 'start', 'create', 'assignment', '1', 'attempt', 'verify', 'feedback', 'dropdowns', 'display', 'feedbacks', 'tab', 'enable', 'feedback', 'take', 'assignment', 'student', 'side', 'verify', 'feedback', 'display', 'student', 'side', 'post', 'submission', 'student', 'report', 'page', 'assignment', 'status', 'display', 'submit', 'name', '56', 'dtype', 'object']\n",
      "['57', 'testdescription', 'start', 'create', 'assignment', '1', 'attempt', 'verify', 'feedback', 'dropdowns', 'display', 'feedbacks', 'tab', 'enable', 'total', 'score', 'feedback', 'take', 'assignment', 'student', 'side', 'verify', 'total', 'score', 'display', 'student', 'side', 'post', 'submission', 'student', 'report', 'page', 'see', 'report', 'link', 'display', 'section', 'home', 'page', 'name', '57', 'dtype', 'object']\n",
      "['58', 'testdescription', 'start', 'create', 'assignment', '1', 'attempt', 'verify', 'feedback', 'dropdowns', 'display', 'feedbacks', 'tab', 'enable', 'question', 'score', 'indicators', 'feedback', 'take', 'assignment', 'student', 'side', 'verify', 'total', 'score', 'correctincorrect', 'indicators', 'display', 'student', 'side', 'post', 'submission', 'student', 'report', 'page', 'see', 'report', 'link', 'display', 'section', 'home', 'page', 'name', '58', 'dtype', 'object']\n",
      "['59', 'testdescription', 'start', 'create', 'assignment', '1', 'attempt', 'verify', 'feedback', 'dropdowns', 'display', 'feedbacks', 'tab', 'enable', 'detail', 'feedback', 'due', 'take', 'assignment', 'student', 'side', 'verify', 'total', 'score', 'display', 'due', 'date', 'detail', 'feedback', 'display', 'due', 'date', 'student', 'side', 'post', 'submission', 'student', 'report', 'page', 'see', 'report', 'link', 'display', 'section', 'home', 'page', 'name', '59', 'dtype', 'object']\n",
      "['60', 'testdescription', 'start', 'create', 'assignment', '1', 'attempt', 'verify', 'feedback', 'dropdowns', 'display', 'feedbacks', 'tab', 'enable', 'detail', 'feedback', 'take', 'assignment', 'student', 'side', 'verify', 'detail', 'feedback', 'display', 'student', 'side', 'post', 'submission', 'student', 'report', 'page', 'see', 'report', 'link', 'display', 'section', 'home', 'page', 'name', '60', 'dtype', 'object']\n",
      "['61', 'testdescription', 'start', 'create', 'assignment', '1', 'attempt', 'verify', 'feedback', 'dropdowns', 'display', 'feedbacks', 'tab', 'enable', 'detail', 'feedback', 'solutions', 'take', 'assignment', 'student', 'side', 'verify', 'detail', 'feedback', 'solution', 'display', 'student', 'side', 'post', 'submission', 'student', 'report', 'page', 'see', 'report', 'link', 'display', 'section', 'home', 'page', 'name', '61', 'dtype', 'object']\n",
      "['62', 'testdescription', 'start', 'create', 'assignment', '2', 'attempt', 'verify', 'feedback', 'dropdowns', 'display', 'feedbacks', 'tab', 'enable', 'feedback', 'total', 'score', 'detail', 'feedback', 'due', 'question', 'score', 'indicators', 'feedback', 'detail', 'feedback', 'detail', 'feedback', 'solutions', 'take', 'attempt', 'student', 'side', 'verify', 'feedback', 'display', 'post', 'submission', 'student', 'report', 'page', 'name', '62', 'dtype', 'object']\n",
      "['63', 'testdescription', 'start', 'create', 'assignment', '3', 'attempt', 'verify', 'feedback', 'dropdowns', 'display', 'feedbacks', 'tab', 'enable', 'feedback', 'total', 'score', 'detail', 'feedback', 'due', 'question', 'score', 'indicators', 'feedback', 'detail', 'feedback', 'detail', 'feedback', 'solutions', 'take', 'attempt', 'student', 'side', 'verify', 'feedback', 'display', 'post', 'submission', 'student', 'report', 'page', 'name', '63', 'dtype', 'object']\n",
      "['64', 'testdescription', 'start', 'create', 'assignment', 'unlimited', 'attempt', 'verify', 'feedback', 'dropdowns', 'display', 'feedbacks', 'tab', 'enable', 'feedback', 'total', 'score', 'detail', 'feedback', 'due', 'question', 'score', 'indicators', 'feedback', 'detail', 'feedback', 'detail', 'feedback', 'solutions', 'take', 'assignment', 'student', 'side', 'verify', 'feedback', 'display', 'post', 'submission', 'student', 'report', 'page', 'also', 'verify', 'feedback', '100', 'score', 'name', '64', 'dtype', 'object']\n",
      "['65', 'testdescription', 'create', 'assignment', 'delay', 'feedback', 'one', 'hour', 'option', 'enable', 'take', 'assignment', 'student', 'side', 'verify', 'feedback', 'delay', 'date', 'time', 'name', '65', 'dtype', 'object']\n",
      "['66', 'testdescription', 'create', 'assignment', 'delay', 'feedback', 'specific', 'date', 'time', 'option', 'enable', 'take', 'assignment', 'student', 'side', 'verify', 'feedback', 'delay', 'date', 'time', 'name', '66', 'dtype', 'object']\n",
      "['67', 'testdescription', 'create', 'assignment', 'qls', 'option', 'enable', 'take', 'assignment', 'student', 'side', 'name', '67', 'dtype', 'object']\n",
      "['68', 'testdescription', 'create', 'assignment', 'check', 'apply', 'question', 'verify', 'score', 'logic', 'student', 'side', 'partial', 'score', 'nothing', 'score', 'name', '68', 'dtype', 'object']\n",
      "['69', 'testdescription', 'create', 'assignment', 'fill', 'blank', 'question', 'verify', 'tolerance', 'accent', 'name', '69', 'dtype', 'object']\n",
      "['70', 'testdescription', 'verify', 'business', 'rule', 'ui', 'validations', 'within', 'set', 'policies', 'page', 'name', '70', 'dtype', 'object']\n",
      "['71', 'testdescription', 'verify', 'apply', 'policies', 'assignment', 'name', '71', 'dtype', 'object']\n",
      "['72', 'testdescription', 'apply', 'policies', 'assignment', 'type', 'exist', 'assignments', 'verify', 'inactive', 'assignments', 'change', 'new', 'settings', 'primary', 'side', 'also', 'verify', 'change', 'apply', 'exist', 'active', 'assignments', 'name', '72', 'dtype', 'object']\n",
      "['73', 'testdescription', 'create', 'assignments', 'without', 'due', 'date', 'start', 'create', 'another', 'assignment', 'navigate', 'set', 'policies', 'page', 'make', 'change', 'due', 'date', 'dependent', 'policies', 'apply', 'change', 'future', 'exist', 'assignment', 'verify', 'exist', 'assignments', 'without', 'due', 'date', 'name', '73', 'dtype', 'object']\n",
      "['74', 'testdescription', 'create', 'new', 'assignment', 'section', 'navigate', 'set', 'policies', 'page', 'verify', 'newly', 'apply', 'policies', 'display', 'default', 'policies', 'create', 'new', 'assignment', 'new', 'section', 'within', 'course', 'navigate', 'set', 'policies', 'page', 'verify', 'newly', 'apply', 'policies', 'display', 'default', 'policies', 'name', '74', 'dtype', 'object']\n",
      "['75', 'testdescription', 'verify', 'add', 'policies', 'display', 'review', 'assign', 'page', 'include', 'negative', 'policies', 'review', 'policies', 'name', '75', 'dtype', 'object']\n",
      "['76', 'testdescription', 'click', 'edit', 'policies', 'review', 'assign', 'verify', 'set', 'policies', 'page', 'load', 'name', '76', 'dtype', 'object']\n",
      "['77', 'testdescription', 'verify', 'save', 'exit', 'page', 'edit', 'assignmentset', 'policiesreview', 'assign', 'name', '77', 'dtype', 'object']\n",
      "['78', 'testdescription', 'verify', 'add', 'question', 'display', 'review', 'assign', 'page', 'click', 'edit', 'verify', 'navigation', 'review', 'assign', 'edit', 'question', 'page', 'name', '78', 'dtype', 'object']\n",
      "['79', 'testdescription', 'verify', 'section', 'within', 'course', 'display', 'review', 'assign', 'page', 'current', 'section', 'select', 'default', 'grey', 'name', '79', 'dtype', 'object']\n",
      "['80', 'testdescription', 'check', 'colleague', 'course', 'section', 'display', 'course', 'colleague', 'name', '80', 'dtype', 'object']\n",
      "['81', 'testdescription', 'set', 'policies', 'page', 'apply', 'policy', 'change', 'exist', 'future', 'assignments', 'navigate', 'review', 'assign', 'page', 'verify', 'apply', 'exist', 'section', 'section', 'colleague', 'name', '81', 'dtype', 'object']\n",
      "['82', 'testdescription', 'section', 'three', 'colleagues', 'three', 'different', 'policy', 'permissions', '1', 'make', 'change', 'policies', 'apply', 'change', 'exist', 'future', 'assignments', '2do', 'select', 'option', 'apply', 'default', 'policy', 'settings', 'exist', 'share', 'assignments', 'review', 'assign', 'page', 'assign', 'assignment', 'name', '82', 'dtype', 'object']\n",
      "['83', 'testdescription', 'login', 'secondary', 'instructors', 'verify', 'none', 'policy', 'change', 'carry', 'exist', 'assignments', 'name', '83', 'dtype', 'object']\n",
      "['84', 'testdescription', '1', 'make', 'change', 'policies', 'apply', 'change', 'exist', 'future', 'assignments', '2select', 'option', 'apply', 'colleagues', 'control', 'policies', 'review', 'assign', 'page', 'assign', 'assignment', 'name', '84', 'dtype', 'object']\n",
      "['85', 'testdescription', 'login', 'secondary', 'instructors', 'policies', 'date', 'policy', 'permissions', 'verify', 'policy', 'change', 'carry', 'secondary', 'instructors', 'name', '85', 'dtype', 'object']\n",
      "['86', 'testdescription', 'login', 'secondary', 'instructors', 'policies', 'permissions', 'verify', 'none', 'policy', 'change', 'carry', 'secondary', 'instructor', 'name', '86', 'dtype', 'object']\n",
      "['87', 'testdescription', '1', 'make', 'change', 'policies', 'apply', 'change', 'exist', 'future', 'assignments', '2select', 'option', 'apply', 'colleagues', 'even', 'control', 'policies', 'review', 'assign', 'page', 'assign', 'assignment', 'name', '87', 'dtype', 'object']\n",
      "['88', 'testdescription', 'login', 'secondary', 'instructors', 'verify', 'policy', 'change', 'carry', 'instructors', 'name', '88', 'dtype', 'object']\n",
      "['89', 'testdescription', 'attach', 'file', 'review', 'assign', 'page', 'verify', 'attach', 'file', 'student', 'side', 'take', 'assignment', 'name', '89', 'dtype', 'object']\n",
      "['90', 'testdescription', 'click', 'student', 'preview', 'icon', 'review', 'assign', 'page', 'check', 'navigate', 'student', 'preview', 'take', 'assignment', 'page', 'name', '90', 'dtype', 'object']\n",
      "['91', 'testdescription', 'verify', 'assignments', 'policies', 'student', 'performance', 'report', 'page', 'click', 'assignment', 'link', 'name', '91', 'dtype', 'object']\n",
      "['92', 'testdescription', 'start', 'create', 'ezt', 'assignment', 'study', 'attempt', 'option', 'enable', 'verify', 'validations', 'due', 'date', 'submission', 'policies', 'name', '92', 'dtype', 'object']\n",
      "['93', 'testdescription', 'create', 'assignments', 'study', 'attempt', 'option', 'enable', 'try', 'remove', 'due', 'date', 'assignment', 'change', 'date', 'page', 'name', '93', 'dtype', 'object']\n",
      "['94', 'testdescription', 'create', 'assignments', 'study', 'attempt', 'option', 'enable', 'try', 'remove', 'due', 'date', 'assignment', 'manage', 'extension', 'page', 'name', '94', 'dtype', 'object']\n",
      "['95', 'testdescription', 'create', 'assignments', 'study', 'attempt', 'option', 'enable', 'take', 'assignment', 'student', 'side', 'due', 'date', 'study', 'mode', 'name', '95', 'dtype', 'object']\n",
      "['96', 'testdescription', 'create', 'assignments', 'study', 'attempt', 'option', 'enable', 'extend', 'due', 'date', 'change', 'date', 'page', 'take', 'assignment', 'study', 'mode', 'student', 'side', 'extend', 'due', 'date', 'name', '96', 'dtype', 'object']\n",
      "['97', 'testdescription', 'create', 'assignments', 'study', 'attempt', 'option', 'enable', 'extend', 'due', 'date', 'manage', 'extensions', 'page', 'particular', 'student', 'take', 'assignment', 'study', 'mode', 'student', 'side', 'extend', 'due', 'date', 'name', '97', 'dtype', 'object']\n",
      "['98', 'testdescription', 'study', 'attempt', 'become', 'active', 'start', 'edit', 'assignment', 'verify', 'due', 'date', 'submission', 'policy', 'study', 'attempt', 'policies', 'disable', 'set', 'policies', 'page', 'name', '98', 'dtype', 'object']\n",
      "['99', 'testdescription', 'try', 'extend', 'due', 'date', 'change', 'date', 'page', 'active', 'study', 'attempt', 'assignment', 'name', '99', 'dtype', 'object']\n",
      "['100', 'testdescription', 'try', 'extend', 'due', 'date', 'manage', 'extensions', 'page', 'active', 'study', 'attempt', 'assignment', 'name', '100', 'dtype', 'object']\n",
      "['101', 'testdescription', 'share', 'study', 'attempt', 'assignment', 'colleague', 'take', 'assignment', 'student', 'study', 'mode', 'secondary', 'side', 'edit', 'assignment', 'secondary', 'primary', 'side', 'verify', 'due', 'date', 'submission', 'policy', 'study', 'attempt', 'policies', 'disable', 'set', 'policies', 'page', 'name', '101', 'dtype', 'object']\n",
      "['102', 'testdescription', 'try', 'extend', 'due', 'date', 'change', 'date', 'page', 'active', 'study', 'attempt', 'assignment', 'primary', 'secondary', 'side', 'name', '102', 'dtype', 'object']\n",
      "['103', 'testdescription', 'try', 'extend', 'due', 'date', 'manage', 'extensions', 'page', 'active', 'study', 'attempt', 'assignment', 'primary', 'secondary', 'side', 'name', '103', 'dtype', 'object']\n",
      "['104', 'testdescription', 'click', 'assignment', 'check', 'policies', 'display', 'policies', 'tab', 'name', '104', 'dtype', 'object']\n",
      "['105', 'testdescription', 'check', 'student', 'submission', 'status', 'display', 'student', 'activity', 'page', 'name', '105', 'dtype', 'object']\n",
      "['106', 'testdescription', 'navigate', 'question', 'add', 'question', 'preview', 'page', 'drop', 'question', 'assignment', 'name', '106', 'dtype', 'object']\n",
      "['107', 'testdescription', 'duplicate', 'section', 'check', 'question', 'drop', 'assignments', 'also', 'copy', 'sectionassignment', 'duplicate', 'course', 'name', '107', 'dtype', 'object']\n",
      "['108', 'testdescription', 'drop', 'question', 'selection', 'option', 'remove', 'copy', 'duplicate', 'verify', 'copy', 'assignment', 'also', 'copy', 'sectionassignment', 'duplicate', 'course', 'name', '108', 'dtype', 'object']\n",
      "['109', 'testdescription', 'give', 'full', 'credit', 'question', 'assignment', 'option', 'select', 'name', '109', 'dtype', 'object']\n",
      "['110', 'testdescription', 'duplicate', 'assignment', 'check', 'question', 'full', 'credit', 'assignments', 'name', '110', 'dtype', 'object']\n",
      "['111', 'testdescription', 'give', 'full', 'credit', 'question', 'selection', 'option', 'remove', 'copy', 'duplicate', 'verify', 'copy', 'assignment', 'also', 'copy', 'sectionassignment', 'duplicate', 'course', 'name', '111', 'dtype', 'object']\n",
      "['112', 'testdescription', 'flag', 'question', 'manual', 'grade', 'take', 'assignment', 'student', 'side', 'verify', 'question', 'display', 'grade', 'queue', 'instructor', 'side', 'name', '112', 'dtype', 'object']\n",
      "['113', 'testdescription', 'edit', 'assignment', 'check', 'add', 'question', 'display', 'name', '113', 'dtype', 'object']\n",
      "['114', 'testdescription', 'edit', 'name', 'instructions', 'add', 'question', 'page', 'name', '114', 'dtype', 'object']\n",
      "['115', 'testdescription', 'verify', 'policies', 'add', 'create', 'assignments', 'display', 'correctly', 'name', '115', 'dtype', 'object']\n",
      "['116', 'testdescription', 'change', 'policies', 'assignment', 'type', 'name', '116', 'dtype', 'object']\n",
      "['117', 'testdescription', 'select', 'apply', 'policy', 'change', 'section', 'name', '117', 'dtype', 'object']\n",
      "['118', 'testdescription', 'assignment', 'share', 'three', 'instructors', 'three', 'different', 'policy', 'permissions', '1make', 'change', 'policies', 'set', 'policies', 'page', 'select', 'apply', 'policy', 'edit', 'colleagues', 'check', 'box', 'review', 'assign', 'page', '2assign', 'assignment', '3login', 'secondary', 'instructors', 'verify', 'policy', 'update', 'make', 'primary', 'instructors', 'carry', 'secondary', 'instructor', 'name', '118', 'dtype', 'object']\n",
      "['119', 'testdescription', '1as', 'primary', 'instructor', 'make', 'change', 'policies', 'set', 'policies', 'page', 'select', 'apply', 'policy', 'edit', 'colleagues', 'check', 'box', 'review', 'assign', 'page', '2assign', 'assignment', 'name', '119', 'dtype', 'object']\n",
      "['120', 'testdescription', 'login', 'secondary', 'instructor', 'policies', 'permission', 'verify', 'policy', 'update', 'carry', 'secondary', 'instructor', 'name', '120', 'dtype', 'object']\n",
      "['121', 'testdescription', 'login', 'secondary', 'instructor', 'date', 'policies', 'permission', 'verify', 'policy', 'update', 'carry', 'secondary', 'instructor', 'except', 'date', 'name', '121', 'dtype', 'object']\n",
      "['122', 'testdescription', 'login', 'secondary', 'instructor', 'policies', 'permission', 'verify', 'none', 'policies', 'carry', 'secondary', 'instructor', 'name', '122', 'dtype', 'object']\n",
      "['123', 'testdescription', 'verify', 'unsharing', 'assignments', 'review', 'assign', 'page', 'uncheck', 'secondary', 'instructors', 'section', 'review', 'assign', 'page', 'edit', 'assignment', 'name', '123', 'dtype', 'object']\n",
      "['124', 'testdescription', 'try', 'delete', 'assignment', 'edit', 'assignment', 'set', 'policies', 'review', 'assign', 'page', 'name', '124', 'dtype', 'object']\n",
      "['125', 'testdescription', 'verify', 'edit', 'assignment', 'secondary', 'instructor', 'policies', 'permission', 'navigate', 'set', 'policies', 'page', 'verify', 'none', 'policies', 'editable', 'name', '125', 'dtype', 'object']\n",
      "['126', 'testdescription', 'verify', 'edit', 'assignment', 'secondary', 'instructor', 'date', 'policies', 'permission', 'navigate', 'set', 'policies', 'page', 'verify', 'none', 'policies', 'editable', 'except', 'date', 'name', '126', 'dtype', 'object']\n",
      "['127', 'testdescription', 'verify', 'edit', 'assignment', 'secondary', 'instructor', 'policies', 'permission', 'navigate', 'set', 'policies', 'page', 'verify', 'policies', 'editable', 'except', 'submission', 'policy', 'name', '127', 'dtype', 'object']\n",
      "['128', 'testdescription', 'edit', 'active', 'assignments', 'view', 'policies', 'edit', 'assignments', 'flow', 'name', '128', 'dtype', 'object']\n",
      "['129', 'testdescription', 'navigate', 'organize', 'assignment', 'page', 'verify', 'none', 'question', 'point', 'editable', 'name', '129', 'dtype', 'object']\n",
      "['130', 'testdescription', 'verify', 'start', 'due', 'date', 'start', 'date', 'display', 'text', 'editable', 'due', 'date', 'display', 'text', 'edit', 'link', 'name', '130', 'dtype', 'object']\n",
      "['131', 'testdescription', 'verification', 'save', 'exit', 'page', 'active', 'assignment', 'assignment', 'always', 'assign', 'state', 'save', 'exit', 'name', '131', 'dtype', 'object']\n",
      "['132', 'testdescription', 'navigate', 'set', 'policies', 'page', 'verify', 'instructor', 'allow', 'change', 'assignment', 'type', 'name', '132', 'dtype', 'object']\n",
      "['133', 'testdescription', 'verify', 'instructor', 'allow', 'reduce', 'time', 'limit', 'attempt', 'active', 'assignment', 'name', '133', 'dtype', 'object']\n",
      "['134', 'testdescription', 'verify', 'grade', 'completion', 'option', 'disable', 'active', 'assignment', 'name', '134', 'dtype', 'object']\n",
      "['135', 'testdescription', 'navigate', 'review', 'assign', 'page', 'verify', 'apply', 'policy', 'edit', 'check', 'box', 'display', 'section', 'colleagues', 'name', '135', 'dtype', 'object']\n",
      "['136', 'testdescription', 'try', 'delete', 'assignment', 'edit', 'assignment', 'set', 'policies', 'review', 'assign', 'page', 'name', '136', 'dtype', 'object']\n",
      "['137', 'testdescription', 'instructor', 'share', 'relationship', 'colleagues', 'policies', 'permission', '1make', 'change', 'policies', 'assign', 'assignment', '2verify', 'policies', 'change', 'carry', 'secondary', 'instructor', 'name', '137', 'dtype', 'object']\n",
      "['138', 'testdescription', 'instructor', 'share', 'relationship', 'colleagues', 'date', 'policies', 'permission', '1make', 'change', 'policies', 'assign', 'assignment', '2verify', 'policies', 'change', 'carry', 'secondary', 'instructor', 'except', 'start', 'due', 'date', 'name', '138', 'dtype', 'object']\n",
      "['139', 'testdescription', 'instructor', 'share', 'relationship', 'colleagues', 'policies', 'permission', '1make', 'change', 'policies', 'assign', 'assignment', '2verify', 'none', 'policies', 'carry', 'policies', 'instructor', 'name', '139', 'dtype', 'object']\n",
      "['140', 'testdescription', 'edit', 'active', 'assignments', 'secondary', 'instructor', 'side', 'view', 'policies', 'edit', 'assignments', 'flow', 'flow', 'verify', 'start', 'due', 'date', 'start', 'date', 'display', 'text', 'editable', 'due', 'date', 'display', 'text', 'edit', 'link', 'name', '140', 'dtype', 'object']\n",
      "['141', 'testdescription', 'verify', 'edit', 'assignment', 'secondary', 'instructor', 'policies', 'permission', 'navigate', 'set', 'policies', 'page', 'verify', 'none', 'policies', 'editable', 'name', '141', 'dtype', 'object']\n",
      "['142', 'testdescription', 'verify', 'edit', 'assignment', 'secondary', 'instructor', 'date', 'policies', 'permission', 'navigate', 'set', 'policies', 'page', 'verify', 'none', 'policies', 'editable', 'except', 'date', 'name', '142', 'dtype', 'object']\n",
      "['143', 'testdescription', 'verify', 'edit', 'assignment', 'secondary', 'instructor', 'policies', 'permission', 'navigate', 'set', 'policies', 'page', 'verify', 'policies', 'editable', 'except', 'submission', 'policy', 'name', '143', 'dtype', 'object']\n",
      "['144', 'testdescription', 'inactive', 'assignment', 'save', 'exit', 'edit', 'assignment', 'set', 'policies', 'review', 'assign', 'page', 'verify', 'status', 'assignment', 'student', 'instructor', 'name', '144', 'dtype', 'object']\n",
      "['145', 'testdescription', 'active', 'assignment', 'save', 'exit', 'edit', 'assignment', 'set', 'policies', 'review', 'assign', 'page', 'verify', 'status', 'assignment', 'student', 'instructor', 'verify', 'student', 'submission', 'report', 'save', 'exit', 'name', '145', 'dtype', 'object']\n",
      "['146', 'testdescription', 'active', 'assignment', 'save', 'exit', 'edit', 'assignment', 'set', 'policies', 'review', 'assign', 'page', 'verify', 'status', 'assignment', 'student', 'instructor', 'verify', 'student', 'submission', 'report', 'save', 'exit', 'name', '146', 'dtype', 'object']\n",
      "['147', 'testdescription', 'instructor', 'create', 'marathon', 'ezt', 'assignments', 'student', 'take', 'assignment', 'per', 'marathon', 'verify', 'instruction', 'overlay', 'minimum', 'score', 'display', 'min', 'score', '0', 'minimum', 'score', 'component', 'display', 'assignment', 'multiple', 'marathon', 'minimum', 'score', 'marathons', 'display', 'name', '147', 'dtype', 'object']\n",
      "['148', 'testdescription', 'create', 'marathon', 'ezt', 'assignments', 'delay', 'feedback', 'feedback', 'due', 'date', 'feedback', 'policies', 'verify', 'next', 'assignment', 'unlock', 'student', 'achieve', 'minimum', 'score', 'ezt', 'assignments', 'immediately', 'submission', 'name', '148', 'dtype', 'object']\n",
      "['149', 'testdescription', 'create', 'marathon', 'ezt', 'assignments', 'deductions', 'assignment', 'level', 'question', 'level', 'verify', 'next', 'assignment', 'unlock', 'student', 'achieve', 'minimum', 'score', 'ezt', 'assignments', 'deductions', 'apply', 'assignments', 'name', '149', 'dtype', 'object']\n",
      "['150', 'testdescription', 'create', 'marathon', 'ezt', 'assignments', 'submit', 'assignments', 'student', 'instructor', 'adjust', 'credit', 'question', 'assignment', 'verify', 'next', 'assignment', 'get', 'unlock', 'provide', 'score', 'min', 'score', 'name', '150', 'dtype', 'object']\n",
      "['151', 'testdescription', 'verify', 'attempt', 'submit', 'due', 'date', 'past', 'due', 'submissions', 'unlock', 'next', 'assignment', 'marathon', 'provide', 'score', 'min', 'score', 'name', '151', 'dtype', 'object']\n",
      "['152', 'testdescription', 'verify', 'attempt', 'submit', 'extension', 'attempt', 'level', 'extensiondue', 'date', 'extension', 'unlock', 'next', 'assignment', 'marathon', 'provide', 'score', 'min', 'score', 'verify', 'marathon', 'roadmap', 'due', 'date', 'display', 'extend', 'due', 'date', 'name', '152', 'dtype', 'object']\n",
      "['153', 'testdescription', 'verify', 'attempt', 'auto', 'submit', 'due', 'date', 'force', 'submission', 'unlock', 'next', 'assignment', 'marathon', 'provide', 'score', 'min', 'score', 'name', '153', 'dtype', 'object']\n",
      "['154', 'testdescription', 'provide', 'extension', 'ezt', 'assignment', 'marathon', 'verify', 'students', 'section', 'home', 'page', 'verify', 'extension', 'icon', 'marathon', 'message', 'name', '154', 'dtype', 'object']\n",
      "['155', 'testdescription', 'create', 'marathon', 'homework', 'practice', 'quiz', 'exam', 'verify', 'assignment', 'icon', 'marathon', 'overlaymarathon', 'roadmap', 'name', '155', 'dtype', 'object']\n",
      "['156', 'testdescription', 'create', 'marathon', 'ezt', 'assignments', 'manual', 'grade', 'question', 'verify', 'next', 'assignment', 'unlock', 'instructor', 'grade', 'question', 'manual', 'grade', 'queue', 'score', 'minimum', 'score', 'name', '156', 'dtype', 'object']\n",
      "['157', 'testdescription', 'create', 'marathon', 'ezt', 'assignments', 'manual', 'grade', 'question', 'verify', 'next', 'assignment', 'remain', 'lock', 'instructor', 'grade', 'question', 'manual', 'grade', 'queue', 'score', 'minimum', 'score', 'name', '157', 'dtype', 'object']\n",
      "['158', 'testdescription', 'create', 'marathon', 'ezt', 'assignment', 'student', 'submissions', 'score', 'min', 'score', 'edit', 'score', 'report', 'score', 'min', 'score', 'verify', 'next', 'assignment', 'get', 'unlock', 'name', '158', 'dtype', 'object']\n",
      "['159', 'testdescription', 'create', 'marathon', 'ezt', 'assignment', 'student', 'submissions', 'score', 'min', 'score', 'next', 'assignment', 'would', 'unlock', 'edit', 'score', 'report', 'score', 'min', 'score', 'verify', 'next', 'assignment', 'get', 'lock', 'student', 'start', 'next', 'unlock', 'assignment', 'name', '159', 'dtype', 'object']\n",
      "['160', 'testdescription', 'create', 'marathon', 'ezt', 'assignment', 'student', 'submissions', 'score', 'min', 'score', 'edit', 'score', 'gradebook', 'score', 'min', 'score', 'verify', 'next', 'assignment', 'get', 'unlock', 'name', '160', 'dtype', 'object']\n",
      "['161', 'testdescription', 'create', 'marathon', 'ezt', 'assignment', 'student', 'submissions', 'score', 'min', 'score', 'next', 'assignment', 'would', 'unlock', 'edit', 'score', 'gradebook', 'score', 'min', 'score', 'verify', 'next', 'assignment', 'get', 'lock', 'student', 'start', 'next', 'unlock', 'assignment', 'name', '161', 'dtype', 'object']\n",
      "['162', 'testdescription', 'create', 'marathon', 'ezt', 'assignment', 'student', 'submissions', 'score', 'min', 'score', 'express', 'grade', 'assignment', 'gradebook', 'score', 'min', 'score', 'verify', 'next', 'assignment', 'get', 'unlock', 'express', 'grade', 'test', 'options', 'students', 'submit', 'students', 'start', 'students', 'name', '162', 'dtype', 'object']\n",
      "['163', 'testdescription', 'create', 'marathon', 'ezt', 'assignmentinclude', 'late', 'submission', 'option', 'end', 'past', 'due', 'attemptsscoremin', 'score', 'instructor', 'sidestudent', 'activity', 'page', 'past', 'due', 'notification', 'page', 'verify', 'next', 'assignment', 'marathon', 'student', 'name', '163', 'dtype', 'object']\n",
      "['164', 'testdescription', 'end', 'progress', 'attempt', 'instructors', 'student', 'performance', 'report', 'page', 'verify', 'next', 'assignment', 'marathon', 'students', 'name', '164', 'dtype', 'object']\n",
      "['165', 'testdescription', 'create', 'marathon', 'multiple', 'bundle', 'first', 'bundle', 'one', 'ezt', 'assignment', 'make', 'pre', 'req', 'assignment', 'invisible', 'student', 'verify', 'next', 'assignment', 'marathon', 'name', '165', 'dtype', 'object']\n",
      "['166', 'testdescription', 'create', 'marathon', 'ezt', 'assignments', 'student', 'activityscore', 'min', 'score', 'increase', 'min', 'score', 'marathon', 'page', 'verify', 'next', 'assignment', 'marathon', 'student', 'side', 'name', '166', 'dtype', 'object']\n",
      "['167', 'testdescription', 'create', 'marathon', 'ezt', 'assignments', 'student', 'activityscore', 'min', 'score', 'decrease', 'min', 'score', 'marathon', 'page', 'verify', 'next', 'assignment', 'marathon', 'student', 'side', 'name', '167', 'dtype', 'object']\n",
      "['168', 'testdescription', 'create', 'marathon', 'ezt', 'assignments', 'remove', 'start', 'date', 'assignments', 'manage', 'date', 'page', 'edit', 'marathon', 'reorder', 'assignments', 'verify', 'student', 'sidebefore', 'activity', 'name', '168', 'dtype', 'object']\n",
      "['169', 'testdescription', 'create', 'marathon', 'ezt', 'assignments', 'provide', 'extension', 'start', 'datestart', 'next', 'assignment', 'marathon', 'pre', 'req', 'assignment', 'verify', 'student', 'side', 'take', 'pre', 'req', 'assignment', 'name', '169', 'dtype', 'object']\n",
      "['170', 'testdescription', 'select', 'inactive', 'ezt', 'assignments', 'section', 'home', 'page', 'navigate', 'manage', 'date', 'page', 'extend', 'start', 'due', 'date', 'change', 'date', 'bulk', 'view', 'verify', 'extend', 'date', 'student', 'side', 'name', '170', 'dtype', 'object']\n",
      "['171', 'testdescription', 'select', 'active', 'ezt', 'assignments', 'section', 'home', 'page', 'navigate', 'manage', 'date', 'page', 'bulk', 'view', 'verify', 'system', 'allow', 'extend', 'start', 'date', 'name', '171', 'dtype', 'object']\n",
      "['172', 'testdescription', 'select', 'active', 'ezt', 'assignments', 'section', 'home', 'page', 'navigate', 'manage', 'date', 'page', 'extend', 'due', 'date', 'change', 'date', 'bulk', 'view', 'verify', 'extend', 'date', 'student', 'side', 'name', '172', 'dtype', 'object']\n",
      "['173', 'testdescription', 'select', 'inactive', 'ezt', 'assignments', 'section', 'home', 'page', 'navigate', 'manage', 'date', 'page', 'extend', 'start', 'due', 'date', 'change', 'date', 'individual', 'view', 'verify', 'extend', 'date', 'student', 'side', 'name', '173', 'dtype', 'object']\n",
      "['174', 'testdescription', 'select', 'active', 'ezt', 'assignments', 'section', 'home', 'page', 'navigate', 'manage', 'date', 'page', 'individual', 'view', 'verify', 'system', 'allow', 'extend', 'start', 'date', 'name', '174', 'dtype', 'object']\n",
      "['175', 'testdescription', 'select', 'active', 'ezt', 'assignments', 'section', 'home', 'page', 'navigate', 'manage', 'date', 'page', 'extend', 'due', 'date', 'change', 'date', 'individual', 'view', 'verify', 'extend', 'date', 'student', 'side', 'name', '175', 'dtype', 'object']\n",
      "['176', 'testdescription', 'select', 'inactive', 'ezt', 'assignments', 'section', 'home', 'page', 'navigate', 'manage', 'date', 'page', 'extend', 'start', 'due', 'date', 'shift', 'date', 'page', 'verify', 'extend', 'date', 'student', 'side', 'name', '176', 'dtype', 'object']\n",
      "['177', 'testdescription', 'select', 'active', 'ezt', 'assignments', 'section', 'home', 'page', 'navigate', 'manage', 'date', 'page', 'verify', 'system', 'allow', 'shift', 'date', 'shift', 'date', 'name', '177', 'dtype', 'object']\n",
      "['178', 'testdescription', 'select', 'inactive', 'ezt', 'assignments', 'section', 'home', 'page', 'navigate', 'manage', 'extensions', 'page', 'extend', 'start', 'due', 'date', 'bulk', 'page', 'verify', 'extend', 'date', 'student', 'side', 'name', '178', 'dtype', 'object']\n",
      "['179', 'testdescription', 'select', 'active', 'ezt', 'assignments', 'section', 'home', 'page', 'navigate', 'manage', 'extensions', 'page', 'verify', 'system', 'allow', 'extend', 'start', 'date', 'bulk', 'page', 'name', '179', 'dtype', 'object']\n",
      "['180', 'testdescription', 'select', 'active', 'ezt', 'assignments', 'section', 'home', 'page', 'navigate', 'manage', 'extensions', 'bulk', 'view', 'page', 'extend', 'due', 'date', 'bulk', 'view', 'verify', 'extend', 'date', 'student', 'side', 'name', '180', 'dtype', 'object']\n",
      "['181', 'testdescription', 'select', 'inactive', 'ezt', 'assignments', 'section', 'home', 'page', 'navigate', 'manage', 'extensions', 'individual', 'view', 'page', 'extend', 'start', 'due', 'date', 'individual', 'page', 'verify', 'extend', 'date', 'student', 'side', 'name', '181', 'dtype', 'object']\n",
      "['182', 'testdescription', 'select', 'active', 'ezt', 'assignments', 'section', 'home', 'page', 'navigate', 'manage', 'extensions', 'individual', 'view', 'page', 'verify', 'system', 'allow', 'extend', 'start', 'date', 'individual', 'page', 'name', '182', 'dtype', 'object']\n",
      "['183', 'testdescription', 'select', 'active', 'ezt', 'assignments', 'section', 'home', 'page', 'navigate', 'manage', 'extensions', 'individual', 'view', 'page', 'extend', 'due', 'date', 'individual', 'view', 'verify', 'extend', 'date', 'student', 'side', 'name', '183', 'dtype', 'object']\n",
      "['184', 'testdescription', 'select', 'inactiveactive', 'ezt', 'assignments', 'section', 'home', 'page', 'navigate', 'manage', 'extensions', 'bulk', 'view', 'select', 'students', 'provide', 'time', 'limit', 'extension', 'multiple', 'assignments', 'verify', 'extension', 'student', 'side', 'select', 'students', 'get', 'extension', 'name', '184', 'dtype', 'object']\n",
      "['185', 'testdescription', 'select', 'inactiveactive', 'ezt', 'assignments', 'section', 'home', 'page', 'navigate', 'manage', 'extensions', 'bulk', 'view', 'select', 'students', 'provide', 'attempt', 'extension', 'multiple', 'assignments', 'verify', 'extension', 'student', 'side', 'select', 'students', 'get', 'extension', 'name', '185', 'dtype', 'object']\n",
      "['186', 'testdescription', 'select', 'inactiveactive', 'ezt', 'assignments', 'section', 'home', 'page', 'navigate', 'manage', 'extensions', 'individual', 'view', 'select', 'students', 'provide', 'time', 'limit', 'extension', 'verify', 'extension', 'student', 'side', 'select', 'students', 'get', 'extension', 'name', '186', 'dtype', 'object']\n",
      "['187', 'testdescription', 'select', 'inactiveactive', 'ezt', 'assignments', 'section', 'home', 'page', 'navigate', 'manage', 'extensions', 'individual', 'view', 'select', 'students', 'provide', 'attempt', 'extension', 'verify', 'extension', 'student', 'side', 'select', 'students', 'get', 'extension', 'name', '187', 'dtype', 'object']\n",
      "['188', 'testdescription', 'select', 'inactiveactive', 'ezt', 'assignments', 'section', 'home', 'page', 'navigate', 'manage', 'extensions', 'individual', 'view', 'editremove', 'extensions', 'provide', 'verify', 'change', 'student', 'side', 'name', '188', 'dtype', 'object']\n",
      "['189', 'testdescription', 'make', 'change', 'assignment', 'date', 'give', 'student', 'extension', 'verify', 'student', 'extensions', 'override', 'assignment', 'date', 'name', '189', 'dtype', 'object']\n",
      "['190', 'testdescription', 'navigate', 'student', 'roster', 'page', 'click', 'manage', 'extensions', 'link', 'student', 'provide', 'section', 'level', 'extension', 'time', 'limit', 'verify', 'extensions', 'apply', 'time', 'assignments', 'student', 'side', 'name', '190', 'dtype', 'object']\n",
      "['191', 'testdescription', 'verify', 'assignments', 'list', 'display', 'min', 'view', 'next', 'assignment', 'list', 'assignments', 'submit', 'least', 'student', 'display', 'min', 'view', 'default', 'past', 'due', 'assignments', 'due', 'today', 'yesterday', 'future', 'due', 'assignments', 'display', 'name', '191', 'dtype', 'object']\n",
      "['192', 'testdescription', 'verify', 'assignments', 'list', 'display', 'max', 'view', 'next', 'assignment', 'list', 'assignments', 'attempt', 'remain', 'submit', 'display', 'min', 'view', 'default', 'past', 'due', 'assignments', 'due', 'today', 'yesterday', 'future', 'due', 'assignments', 'display', 'name', '192', 'dtype', 'object']\n",
      "['193', 'testdescription', 'grade', 'question', 'without', 'section', 'break', 'question', 'name', '193', 'dtype', 'object']\n",
      "['194', 'testdescription', 'grade', 'student', 'without', 'section', 'break', 'question', 'name', '194', 'dtype', 'object']\n",
      "['195', 'testdescription', 'grade', 'part', 'name', '195', 'dtype', 'object']\n",
      "['196', 'testdescription', 'verify', 'inline', 'comment', 'audio', 'comment', 'text', 'comment', 'name', '196', 'dtype', 'object']\n",
      "['197', 'testdescription', 'instructor', 'report', 'content', 'issue', 'preview', 'tab', 'name', '197', 'dtype', 'object']\n",
      "['198', 'testdescription', 'verify', 'email', 'name', '198', 'dtype', 'object']\n",
      "['199', 'testdescription', 'verify', 'score', 'logic', 'native', 'question', 'name', '199', 'dtype', 'object']\n",
      "['200', 'testdescription', 'create', 'assignment', 'c15', 'isbn', 'verify', 'c15', 'unsupported', 'question', 'add', 'question', 'tab', 'list', 'view', 'gray', 'indicator', 'unsupported', 'question', 'check', 'box', 'disable', 'name', '200', 'dtype', 'object']\n",
      "['201', 'testdescription', 'create', 'assignment', 'c15', 'isbn', 'verify', 'c15', 'unsupported', 'question', 'add', 'question', 'tab', 'individual', 'view', 'add', 'question', 'button', 'disable', 'unsupported', 'question', 'indicator', 'display', 'name', '201', 'dtype', 'object']\n",
      "['202', 'testdescription', 'create', 'assignment', 'c15', 'isbn', 'add', 'random', 'selection', 'modal', 'selcted', 'chapter', 'contain', 'unsupported', 'question', 'add', 'random', 'selection', 'modal', '1', 'display', 'message', 'unsupported', 'question', 'wont', 'include', 'random', 'selection', '2', 'display', 'support', 'number', 'question', 'enter', 'value', 'question', 'name', '202', 'dtype', 'object']\n",
      "['203', 'testdescription', 'legacy', 'data', 'c15', 'isbn', 'instructor', 'verify', 'unsupported', 'content', 'indicator', 'section', 'home', 'page', 'c15', 'unsupported', 'assignment', 'name', '203', 'dtype', 'object']\n",
      "['204', 'testdescription', 'legacy', 'data', 'c15', 'isbn', 'instructor', 'verify', 'unsupported', 'content', 'indicator', 'student', 'activity', 'page', 'c15', 'unsupported', 'assignment', 'name', '204', 'dtype', 'object']\n",
      "['205', 'testdescription', 'legacy', 'data', 'c15', 'isbn', 'instructor', 'verify', 'unsupported', 'content', 'indicator', 'organize', 'assignment', 'page', 'c15', 'unsupported', 'question', 'name', '205', 'dtype', 'object']\n",
      "['206', 'testdescription', 'classic', 'isbn', 'instructor', 'able', 'add', 'question', 'c15', 'unsupported', 'question', 'ezt', 'assignment', 'indicator', 'add', 'question', 'organize', 'assignment', 'section', 'home', 'page', 'student', 'activity', 'name', '206', 'dtype', 'object']\n",
      "\n"
     ]
    }
   ],
   "source": [
    "print(inptxt1)"
   ]
  },
  {
   "cell_type": "code",
   "execution_count": 112,
   "metadata": {
    "scrolled": true
   },
   "outputs": [
    {
     "name": "stdout",
     "output_type": "stream",
     "text": [
      "[nltk_data] Downloading package averaged_perceptron_tagger to\n",
      "[nltk_data]     C:\\Users\\MA40006249\\AppData\\Roaming\\nltk_data...\n",
      "[nltk_data]   Package averaged_perceptron_tagger is already up-to-\n",
      "[nltk_data]       date!\n"
     ]
    },
    {
     "data": {
      "text/plain": [
       "True"
      ]
     },
     "execution_count": 112,
     "metadata": {},
     "output_type": "execute_result"
    }
   ],
   "source": [
    "import nltk\n",
    "nltk.download('averaged_perceptron_tagger')\n",
    "  \n"
   ]
  },
  {
   "cell_type": "code",
   "execution_count": 100,
   "metadata": {},
   "outputs": [
    {
     "name": "stdout",
     "output_type": "stream",
     "text": [
      "[nltk_data] Downloading package wordnet to\n",
      "[nltk_data]     C:\\Users\\MA40006249\\AppData\\Roaming\\nltk_data...\n",
      "[nltk_data]   Unzipping corpora\\wordnet.zip.\n"
     ]
    },
    {
     "data": {
      "text/plain": [
       "True"
      ]
     },
     "execution_count": 100,
     "metadata": {},
     "output_type": "execute_result"
    }
   ],
   "source": [
    "import nltk\n",
    "nltk.download('wordnet')\n"
   ]
  },
  {
   "cell_type": "code",
   "execution_count": 61,
   "metadata": {
    "scrolled": false
   },
   "outputs": [
    {
     "name": "stdout",
     "output_type": "stream",
     "text": [
      "['(2,', 'TestDescription', 'Verify', 'direct message', 'student', 'instructions', 'field.', 'Max', '...', 'Name:', '2,', 'dtype:', 'object)']\n"
     ]
    }
   ],
   "source": [
    "print(tokens[1])"
   ]
  },
  {
   "cell_type": "code",
   "execution_count": 51,
   "metadata": {
    "scrolled": true
   },
   "outputs": [
    {
     "name": "stdout",
     "output_type": "stream",
     "text": [
      "[]\n"
     ]
    }
   ],
   "source": [
    "print(words)"
   ]
  },
  {
   "cell_type": "code",
   "execution_count": 117,
   "metadata": {
    "scrolled": true
   },
   "outputs": [
    {
     "name": "stderr",
     "output_type": "stream",
     "text": [
      "IOPub data rate exceeded.\n",
      "The notebook server will temporarily stop sending output\n",
      "to the client in order to avoid crashing it.\n",
      "To change this limit, set the config variable\n",
      "`--NotebookApp.iopub_data_rate_limit`.\n",
      "\n",
      "Current values:\n",
      "NotebookApp.iopub_data_rate_limit=1000000.0 (bytes/sec)\n",
      "NotebookApp.rate_limit_window=3.0 (secs)\n",
      "\n"
     ]
    }
   ],
   "source": [
    "print(lemt3)"
   ]
  },
  {
   "cell_type": "code",
   "execution_count": 103,
   "metadata": {
    "scrolled": false
   },
   "outputs": [
    {
     "name": "stdout",
     "output_type": "stream",
     "text": [
      "  (0, 17)\t1.0\n",
      "  (1, 0)\t1.0\n",
      "  (2, 3)\t1.0\n",
      "  (3, 11)\t1.0\n",
      "  (4, 14)\t1.0\n",
      "  (5, 9)\t1.0\n",
      "  (6, 17)\t1.0\n",
      "  (7, 7)\t1.0\n",
      "  (8, 6)\t1.0\n",
      "  (9, 15)\t1.0\n",
      "  (10, 10)\t1.0\n",
      "  (11, 19)\t1.0\n",
      "  (12, 5)\t1.0\n",
      "  (13, 14)\t1.0\n",
      "  (14, 4)\t1.0\n",
      "  (15, 12)\t1.0\n",
      "  (16, 18)\t1.0\n",
      "  (17, 5)\t1.0\n",
      "  (18, 2)\t1.0\n",
      "  (19, 8)\t1.0\n",
      "  (20, 16)\t1.0\n",
      "  (21, 1)\t1.0\n",
      "  (22, 13)\t1.0\n"
     ]
    }
   ],
   "source": [
    "print(tfidfval)"
   ]
  },
  {
   "cell_type": "code",
   "execution_count": 106,
   "metadata": {},
   "outputs": [
    {
     "data": {
      "text/plain": [
       "24"
      ]
     },
     "execution_count": 106,
     "metadata": {},
     "output_type": "execute_result"
    }
   ],
   "source": [
    "len(word_vectors)"
   ]
  },
  {
   "cell_type": "code",
   "execution_count": 128,
   "metadata": {
    "scrolled": true
   },
   "outputs": [
    {
     "name": "stdout",
     "output_type": "stream",
     "text": [
      "                                                                                                                                                                                                                                                                                                                                            TestDescription\n",
      "DS_TEST_ID                                                                                                                                                                                                                                                                                                                                                 \n",
      "1           verifying 'selecting  the assignment name field. Max length 100 chars.Verify the name from create assignment/set policies/review & assign pages.                                                                                                                                                                                               \n",
      "2           Verify dm the student instructions field. Max length 4000 chars.Verify the instruction from create assignment/set policies/review & assign pages.                                                                                                                                                                                              \n",
      "3           Verify the zero state of 'create assignment' page                                                                                                                                                                                                                                                                                              \n",
      "4           Verify the 'Selecting a question source' modal. Selected textbook, Assignment I created, Create your own question options should be displayed.                                                                                                                                                                                                 \n",
      "5           Select the textbook and verify the flow. Display of table of content and chapters/question banks. On Select, questions from the Selected chapters should be listed.                                                                                                                                                                            \n",
      "6           Select 'Assignments I created' and verify the display of assignments from all the sections of all the courses of this instructor account. Add questions from the assignments I created.                                                                                                                                                        \n",
      "7           Create your own question -  Launch the question editor and create all these question types.Check All That ApplyEssayFile Attachment\\nFill in the Blank\\nMatching\\nMultiple Choice\\nNumeric Response\\nRanking\\nSection Break\\nShort Answer\\nSurvey\\nTrue/False\\nWorksheet\\nYes/No                                                               \n",
      "8           Verify 'add random Selection'. Add questions randomly as individual questions or to a pool.                                                                                                                                                                                                                                                    \n",
      "9           Verify the question list in the add questions > list view. \\nVerify the question list (questions, question type, info and check boxes)\\nVerify the 'm' flag for manual grading question.\\nVerify the filters                                                                                                                                   \n",
      "10          Verify auto gradable and non-auto gradable filter validations                                                                                                                                                                                                                                                                                  \n",
      "11          Verify the question list in the add questions > Individual view. \\nAdd questions/section break questions from the individual view\\nVerify the 'm' flag for manual grading question.                                                                                                                                                            \n",
      "12          Add questions as 'individual questions' from list/individual view                                                                                                                                                                                                                                                                              \n",
      "13          Add questions to a pool from  list/individual view. Add questions to a new pool and existing pool.                                                                                                                                                                                                                                             \n",
      "14          Verify the Set points  - Entire assignment, each question and specific question type.\\nVerify the validation for max points value for all cases.                                                                                                                                                                                               \n",
      "15          Verify the maximum point value for each question and for the assignment                                                                                                                                                                                                                                                                        \n",
      "16          Verify questions assigned and points display                                                                                                                                                                                                                                                                                                   \n",
      "17          Verification of lock for the assignment points - add more questions, delete some questions, Reducing the no of questions drawn from the pool                                                                                                                                                                                                   \n",
      "18          Create assignment with pooled questions, delete a question from the pool, moving individual questions to the pool, merging two pools. \\nVerify edit pools (rename, move to, merge pools)                                                                                                                                                       \n",
      "19          Organize assignments > List view: Drag and drop question, delete question, edit score, move up/down questions, edit pools.                                                                                                                                                                                                                     \n",
      "20          Organize assignments > Individual view: Verify the question display and navigations within questions.                                                                                                                                                                                                                                          \n",
      "21          Quick view settings: \\nEnabling / Disabling AAA from Quick view settings \\nVerify question editor from Quick view settings                                                                                                                                                                                                                     \n",
      "22          Verify AAA feature. \\nCreate assignment with  AAA option enabled for few questions and take the assignment on student side and verify the scores.                                                                                                                                                                                              \n",
      "23          Verify Question editor: \\nLaunch Question editor and edit the question. Verify the changes made from question editor.                                                                                                                                                                                                                          \n",
      "24          Voice recording in Question editor interface                                                                                                                                                                                                                                                                                                   \n",
      "25          Create a zero point assignment and take the assignment on student side                                                                                                                                                                                                                                                                         \n",
      "26          Verify default policies for all 4 types (Homework/Practice/Quiz/Exam) in set policies page                                                                                                                                                                                                                                                     \n",
      "27          Verify the positive/negative policy displays in the expanded view of advanced settings (set policies page)                                                                                                                                                                                                                                     \n",
      "28          Verify start and due date fields. Verify the validations on start and due dates.                                                                                                                                                                                                                                                               \n",
      "29          Create assignment without due date and verify the student's section home page and instruction modal on student side                                                                                                                                                                                                                            \n",
      "30          Creating assignments with force grading (auto submit) and verify the force grading on Connect side for students                                                                                                                                                                                                                                \n",
      "...                                                                                                                         ...                                                                                                                                                                                                                            \n",
      "177         Select some active ezt assignments from section home page and navigate to Manage dates page. Verify if the system is not allowed to shift dates from Shift dates                                                                                                                                                                               \n",
      "178         Select some inactive ezt assignments from section home page and navigate to Manage Extensions page. Extend the start and due date from In bulk page. Verify the extended date on Student side                                                                                                                                                  \n",
      "179         Select some active ezt assignments from section home page and navigate to Manage Extensions page. Verify if the system is not allowed to extend start date from In bulk page                                                                                                                                                                   \n",
      "180         Select some active ezt assignments from section home page and navigate to Manage Extensions In bulk view page. Extend the due date from In bulk view. Verify the extended date on Student side                                                                                                                                                 \n",
      "181         Select some inactive ezt assignments from section home page and navigate to Manage Extensions Individual view page. Extend the start and due date from Individual page. Verify the extended date on Student side                                                                                                                               \n",
      "182         Select some active ezt assignments from section home page and navigate to Manage Extensions Individual view page. Verify if the system is not allowed to extend start date from Individual page                                                                                                                                                \n",
      "183         Select some active ezt assignments from section home page and navigate to Manage Extensions Individual view page. Extend the due date from Individual view. Verify the extended date on Student side                                                                                                                                           \n",
      "184         Select some inactive/active ezt assignments from section home page and navigate to Manage Extensions - In bulk view. Select some students and provide time limit extension (multiple assignments). \\nVerify the extension on Student side. Only Selected students should get the extension.                                                    \n",
      "185         Select some inactive/active ezt assignments from section home page and navigate to Manage Extensions - In bulk view. Select some students and provide attempts extension (multiple assignments). \\nVerify the extension on Student side. Only Selected students should get the extension.                                                      \n",
      "186         Select some inactive/active ezt assignments from section home page and navigate to Manage Extensions - Individual view. Select some students and provide time limit extension. \\nVerify the extension on Student side. Only Selected students should get the extension.                                                                        \n",
      "187         Select some inactive/active ezt assignments from section home page and navigate to Manage Extensions - Individual view. Select some students and provide attempts extension. \\nVerify the extension on Student side. Only Selected students should get the extension.                                                                          \n",
      "188         Select some inactive/active ezt assignments from section home page and navigate to Manage Extensions - Individual view. \\nEdit/remove the extensions provided and verify the changes on Student side                                                                                                                                           \n",
      "189         Make some changes to the Assignment dates (after giving student extension) and verify if the Student extensions are not overridden by the Assignment dates                                                                                                                                                                                     \n",
      "190         Navigate to Student roster page. Click on manage extensions link for a student. Provide section level extension for time limit. Verify if the extensions are applied for the timed assignments on Student side                                                                                                                                 \n",
      "191         Verify the assignments list displayed in the 'min' view of next assignment list. Only the assignments that have not been submitted at least once by the student should be displayed in the min view.\\nBy default past due assignments (due today and yesterday) and all future due assignments should be displayed.                            \n",
      "192         Verify the assignments list displayed in the 'max' view of next assignment list. Only the assignments that have attempts remaining to be submitted should be displayed in the min view.\\nBy default past due assignments (due today and yesterday) and all future due assignments should be displayed.                                         \n",
      "193         Grade by Question - with, without section break questions                                                                                                                                                                                                                                                                                      \n",
      "194         Grade by student - with, without section break questions                                                                                                                                                                                                                                                                                       \n",
      "195         Grade by parts                                                                                                                                                                                                                                                                                                                                 \n",
      "196         Verify the inline comments, audio comments and text comments                                                                                                                                                                                                                                                                                   \n",
      "197         As instructor report the content issue - from preview tab                                                                                                                                                                                                                                                                                      \n",
      "198         Verify the Email                                                                                                                                                                                                                                                                                                                               \n",
      "199         Verify the scoring logic for all native questions                                                                                                                                                                                                                                                                                              \n",
      "200         Create assignment for C15 ISBN: Verify the C15 unsupported question in the add questions tab (list view). It should be grayed out with indicator \"Unsupported question\" and the check boxes should be disabled.                                                                                                                                \n",
      "201         Create assignment for C15 ISBN: Verify the C15 unsupported question in the add questions tab (individual view).  'add this question' button should be disabled and \"Unsupported question\" indicator should be displayed.                                                                                                                       \n",
      "202         Create assignment for C15 ISBN: Add random Selection modal: When the selcted chapter contains unsupported questions, the add random Selection modal should \\n1. display the message \"Unsupported questions won't be included in random Selection\". \\n2. display only the supported number of questions  (enter value between # and # questions)\n",
      "203         Legacy data (C15 ISBN): Instructor: Verify the unsupported content indicator in the section home page for C15 unsupported assignment                                                                                                                                                                                                           \n",
      "204         Legacy data (C15 ISBN): Instructor: Verify the unsupported content indicator in the student activity page for C15 unsupported assignment                                                                                                                                                                                                       \n",
      "205         Legacy data (C15 ISBN): Instructor: Verify the unsupported content indicator in the organize assignment page for C15 unsupported question                                                                                                                                                                                                      \n",
      "206         Classic ISBN: Instructor should be able to add any question (any C15 unsupported question) to the EZT assignment. There should not be any indicator in add questions, organize assignment, section home page and student activity                                                                                                              \n",
      "\n",
      "[206 rows x 1 columns]\n"
     ]
    }
   ],
   "source": [
    "print(inptxt)"
   ]
  },
  {
   "cell_type": "code",
   "execution_count": 19,
   "metadata": {},
   "outputs": [
    {
     "data": {
      "text/plain": [
       "(206, 2)"
      ]
     },
     "execution_count": 19,
     "metadata": {},
     "output_type": "execute_result"
    }
   ],
   "source": [
    "inptxt1.shape"
   ]
  },
  {
   "cell_type": "code",
   "execution_count": 31,
   "metadata": {},
   "outputs": [
    {
     "data": {
      "text/plain": [
       "pandas.core.indexes.base.Index"
      ]
     },
     "execution_count": 31,
     "metadata": {},
     "output_type": "execute_result"
    }
   ],
   "source": [
    "a = inptxt1.columns[[0]]\n",
    "type(a)"
   ]
  },
  {
   "cell_type": "code",
   "execution_count": 125,
   "metadata": {
    "scrolled": true
   },
   "outputs": [
    {
     "name": "stdout",
     "output_type": "stream",
     "text": [
      "                                                                                                                                                                                                                                                                                                                                            TestDescription\n",
      "DS_TEST_ID                                                                                                                                                                                                                                                                                                                                                 \n",
      "1           verifying 'selecting  the assignment name field. Max length 100 chars.Verify the name from create assignment/set policies/review & assign pages.                                                                                                                                                                                               \n",
      "2           Verify dm the student instructions field. Max length 4000 chars.Verify the instruction from create assignment/set policies/review & assign pages.                                                                                                                                                                                              \n",
      "3           Verify the zero state of 'create assignment' page                                                                                                                                                                                                                                                                                              \n",
      "4           Verify the 'Selecting a question source' modal. Selected textbook, Assignment I created, Create your own question options should be displayed.                                                                                                                                                                                                 \n",
      "5           Select the textbook and verify the flow. Display of table of content and chapters/question banks. On Select, questions from the Selected chapters should be listed.                                                                                                                                                                            \n",
      "6           Select 'Assignments I created' and verify the display of assignments from all the sections of all the courses of this instructor account. Add questions from the assignments I created.                                                                                                                                                        \n",
      "7           Create your own question -  Launch the question editor and create all these question types.Check All That ApplyEssayFile Attachment\\nFill in the Blank\\nMatching\\nMultiple Choice\\nNumeric Response\\nRanking\\nSection Break\\nShort Answer\\nSurvey\\nTrue/False\\nWorksheet\\nYes/No                                                               \n",
      "8           Verify 'add random Selection'. Add questions randomly as individual questions or to a pool.                                                                                                                                                                                                                                                    \n",
      "9           Verify the question list in the add questions > list view. \\nVerify the question list (questions, question type, info and check boxes)\\nVerify the 'm' flag for manual grading question.\\nVerify the filters                                                                                                                                   \n",
      "10          Verify auto gradable and non-auto gradable filter validations                                                                                                                                                                                                                                                                                  \n",
      "11          Verify the question list in the add questions > Individual view. \\nAdd questions/section break questions from the individual view\\nVerify the 'm' flag for manual grading question.                                                                                                                                                            \n",
      "12          Add questions as 'individual questions' from list/individual view                                                                                                                                                                                                                                                                              \n",
      "13          Add questions to a pool from  list/individual view. Add questions to a new pool and existing pool.                                                                                                                                                                                                                                             \n",
      "14          Verify the Set points  - Entire assignment, each question and specific question type.\\nVerify the validation for max points value for all cases.                                                                                                                                                                                               \n",
      "15          Verify the maximum point value for each question and for the assignment                                                                                                                                                                                                                                                                        \n",
      "16          Verify questions assigned and points display                                                                                                                                                                                                                                                                                                   \n",
      "17          Verification of lock for the assignment points - add more questions, delete some questions, Reducing the no of questions drawn from the pool                                                                                                                                                                                                   \n",
      "18          Create assignment with pooled questions, delete a question from the pool, moving individual questions to the pool, merging two pools. \\nVerify edit pools (rename, move to, merge pools)                                                                                                                                                       \n",
      "19          Organize assignments > List view: Drag and drop question, delete question, edit score, move up/down questions, edit pools.                                                                                                                                                                                                                     \n",
      "20          Organize assignments > Individual view: Verify the question display and navigations within questions.                                                                                                                                                                                                                                          \n",
      "21          Quick view settings: \\nEnabling / Disabling AAA from Quick view settings \\nVerify question editor from Quick view settings                                                                                                                                                                                                                     \n",
      "22          Verify AAA feature. \\nCreate assignment with  AAA option enabled for few questions and take the assignment on student side and verify the scores.                                                                                                                                                                                              \n",
      "23          Verify Question editor: \\nLaunch Question editor and edit the question. Verify the changes made from question editor.                                                                                                                                                                                                                          \n",
      "24          Voice recording in Question editor interface                                                                                                                                                                                                                                                                                                   \n",
      "25          Create a zero point assignment and take the assignment on student side                                                                                                                                                                                                                                                                         \n",
      "26          Verify default policies for all 4 types (Homework/Practice/Quiz/Exam) in set policies page                                                                                                                                                                                                                                                     \n",
      "27          Verify the positive/negative policy displays in the expanded view of advanced settings (set policies page)                                                                                                                                                                                                                                     \n",
      "28          Verify start and due date fields. Verify the validations on start and due dates.                                                                                                                                                                                                                                                               \n",
      "29          Create assignment without due date and verify the student's section home page and instruction modal on student side                                                                                                                                                                                                                            \n",
      "30          Creating assignments with force grading (auto submit) and verify the force grading on Connect side for students                                                                                                                                                                                                                                \n",
      "...                                                                                                                         ...                                                                                                                                                                                                                            \n",
      "177         Select some active ezt assignments from section home page and navigate to Manage dates page. Verify if the system is not allowed to shift dates from Shift dates                                                                                                                                                                               \n",
      "178         Select some inactive ezt assignments from section home page and navigate to Manage Extensions page. Extend the start and due date from In bulk page. Verify the extended date on Student side                                                                                                                                                  \n",
      "179         Select some active ezt assignments from section home page and navigate to Manage Extensions page. Verify if the system is not allowed to extend start date from In bulk page                                                                                                                                                                   \n",
      "180         Select some active ezt assignments from section home page and navigate to Manage Extensions In bulk view page. Extend the due date from In bulk view. Verify the extended date on Student side                                                                                                                                                 \n",
      "181         Select some inactive ezt assignments from section home page and navigate to Manage Extensions Individual view page. Extend the start and due date from Individual page. Verify the extended date on Student side                                                                                                                               \n",
      "182         Select some active ezt assignments from section home page and navigate to Manage Extensions Individual view page. Verify if the system is not allowed to extend start date from Individual page                                                                                                                                                \n",
      "183         Select some active ezt assignments from section home page and navigate to Manage Extensions Individual view page. Extend the due date from Individual view. Verify the extended date on Student side                                                                                                                                           \n",
      "184         Select some inactive/active ezt assignments from section home page and navigate to Manage Extensions - In bulk view. Select some students and provide time limit extension (multiple assignments). \\nVerify the extension on Student side. Only Selected students should get the extension.                                                    \n",
      "185         Select some inactive/active ezt assignments from section home page and navigate to Manage Extensions - In bulk view. Select some students and provide attempts extension (multiple assignments). \\nVerify the extension on Student side. Only Selected students should get the extension.                                                      \n",
      "186         Select some inactive/active ezt assignments from section home page and navigate to Manage Extensions - Individual view. Select some students and provide time limit extension. \\nVerify the extension on Student side. Only Selected students should get the extension.                                                                        \n",
      "187         Select some inactive/active ezt assignments from section home page and navigate to Manage Extensions - Individual view. Select some students and provide attempts extension. \\nVerify the extension on Student side. Only Selected students should get the extension.                                                                          \n",
      "188         Select some inactive/active ezt assignments from section home page and navigate to Manage Extensions - Individual view. \\nEdit/remove the extensions provided and verify the changes on Student side                                                                                                                                           \n",
      "189         Make some changes to the Assignment dates (after giving student extension) and verify if the Student extensions are not overridden by the Assignment dates                                                                                                                                                                                     \n",
      "190         Navigate to Student roster page. Click on manage extensions link for a student. Provide section level extension for time limit. Verify if the extensions are applied for the timed assignments on Student side                                                                                                                                 \n",
      "191         Verify the assignments list displayed in the 'min' view of next assignment list. Only the assignments that have not been submitted at least once by the student should be displayed in the min view.\\nBy default past due assignments (due today and yesterday) and all future due assignments should be displayed.                            \n",
      "192         Verify the assignments list displayed in the 'max' view of next assignment list. Only the assignments that have attempts remaining to be submitted should be displayed in the min view.\\nBy default past due assignments (due today and yesterday) and all future due assignments should be displayed.                                         \n",
      "193         Grade by Question - with, without section break questions                                                                                                                                                                                                                                                                                      \n",
      "194         Grade by student - with, without section break questions                                                                                                                                                                                                                                                                                       \n",
      "195         Grade by parts                                                                                                                                                                                                                                                                                                                                 \n",
      "196         Verify the inline comments, audio comments and text comments                                                                                                                                                                                                                                                                                   \n",
      "197         As instructor report the content issue - from preview tab                                                                                                                                                                                                                                                                                      \n",
      "198         Verify the Email                                                                                                                                                                                                                                                                                                                               \n",
      "199         Verify the scoring logic for all native questions                                                                                                                                                                                                                                                                                              \n",
      "200         Create assignment for C15 ISBN: Verify the C15 unsupported question in the add questions tab (list view). It should be grayed out with indicator \"Unsupported question\" and the check boxes should be disabled.                                                                                                                                \n",
      "201         Create assignment for C15 ISBN: Verify the C15 unsupported question in the add questions tab (individual view).  'add this question' button should be disabled and \"Unsupported question\" indicator should be displayed.                                                                                                                       \n",
      "202         Create assignment for C15 ISBN: Add random Selection modal: When the selcted chapter contains unsupported questions, the add random Selection modal should \\n1. display the message \"Unsupported questions won't be included in random Selection\". \\n2. display only the supported number of questions  (enter value between # and # questions)\n",
      "203         Legacy data (C15 ISBN): Instructor: Verify the unsupported content indicator in the section home page for C15 unsupported assignment                                                                                                                                                                                                           \n",
      "204         Legacy data (C15 ISBN): Instructor: Verify the unsupported content indicator in the student activity page for C15 unsupported assignment                                                                                                                                                                                                       \n",
      "205         Legacy data (C15 ISBN): Instructor: Verify the unsupported content indicator in the organize assignment page for C15 unsupported question                                                                                                                                                                                                      \n",
      "206         Classic ISBN: Instructor should be able to add any question (any C15 unsupported question) to the EZT assignment. There should not be any indicator in add questions, organize assignment, section home page and student activity                                                                                                              \n",
      "\n",
      "[206 rows x 1 columns]\n"
     ]
    }
   ],
   "source": [
    "print(inptxt)"
   ]
  },
  {
   "cell_type": "code",
   "execution_count": 36,
   "metadata": {},
   "outputs": [
    {
     "name": "stdout",
     "output_type": "stream",
     "text": [
      "<generator object DataFrame.iterrows at 0x000002DD8CE236D0>\n"
     ]
    }
   ],
   "source": [
    "b = inptxt1.iterrows()\n",
    "print(b)"
   ]
  },
  {
   "cell_type": "code",
   "execution_count": 127,
   "metadata": {},
   "outputs": [
    {
     "name": "stdout",
     "output_type": "stream",
     "text": [
      "(1,\n",
      "TestDescription\n",
      "verify\n",
      "assignment\n",
      "name\n",
      "field.\n",
      "Max\n",
      "leng...\n",
      "Name:\n",
      "1,\n",
      "dtype:\n",
      "object)\n"
     ]
    }
   ],
   "source": [
    "words = ['(1,', 'TestDescription', 'verifying', 'assignment', 'name', 'field.', 'Max', 'leng...', 'Name:', '1,', 'dtype:', 'object)']\n",
    "\n",
    "for word in words:\n",
    "    worddrd = lem.lemmatize(word,\"v\")\n",
    "    print(worddrd)"
   ]
  },
  {
   "cell_type": "code",
   "execution_count": 103,
   "metadata": {},
   "outputs": [
    {
     "name": "stdout",
     "output_type": "stream",
     "text": [
      "kjbnihb\n"
     ]
    }
   ],
   "source": [
    "print(remreg(\"'kjbnihb\"))"
   ]
  },
  {
   "cell_type": "code",
   "execution_count": null,
   "metadata": {},
   "outputs": [],
   "source": []
  }
 ],
 "metadata": {
  "kernelspec": {
   "display_name": "Python 3",
   "language": "python",
   "name": "python3"
  },
  "language_info": {
   "codemirror_mode": {
    "name": "ipython",
    "version": 3
   },
   "file_extension": ".py",
   "mimetype": "text/x-python",
   "name": "python",
   "nbconvert_exporter": "python",
   "pygments_lexer": "ipython3",
   "version": "3.6.4"
  }
 },
 "nbformat": 4,
 "nbformat_minor": 2
}
